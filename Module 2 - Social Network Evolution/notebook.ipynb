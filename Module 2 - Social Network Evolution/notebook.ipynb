{
 "cells": [
  {
   "cell_type": "markdown",
   "metadata": {},
   "source": [
    "# Data Arts Module 2: Social Network Evolution\n",
    "\n",
    "In this module, we are going to be writing code that allows us to visualize the progression/evolution of a mock social network over time. Our idea is quite simple. we generate a randomized list of users and friend/connections between users. We then utilize Python libraries to plot the users as nodes on a graph, and the connections as edges on a graph. \n",
    "\n",
    "In order to create this visualization, we are going to need a basic understanding of some important programming concepts. These concepts are Object Oriented Programming and List/Dictionary Comprehensions."
   ]
  },
  {
   "cell_type": "markdown",
   "metadata": {},
   "source": [
    "## What is Object Oriented Programming?\n",
    "\n",
    "Object oriented programming, or OOP, is a way to think about data in a more tangible way. It lets us organize descriptions of objects into what we call a `class`. For example, let's say I want to write code that describes a dog. I would define a new `class` for all dogs, and the `class` would represent my idea of what it means to be a dog."
   ]
  },
  {
   "cell_type": "code",
   "execution_count": 6,
   "metadata": {
    "collapsed": true
   },
   "outputs": [],
   "source": [
    "class Dog:\n",
    "    # This is where I define what it means to be a dog.\n",
    "    scientific_name = 'canis lupus familiaris'\n",
    "    home_planet = 'Earth'"
   ]
  },
  {
   "cell_type": "markdown",
   "metadata": {},
   "source": [
    "Cool! But now we have a slight problem. The Dog `class` needs to describe *every* dog ever, not just some of them. That means we can't specify some important things — like species, or weight, or fur color — because then the Dog `class` wouldn't really define what it means to be a dog. Instead, it would just define what it means to be some particular kind of dog.\n",
    "\n",
    "The solution is called inheritance. We can define a more specific `class` that copies over all the information from the Dog `class`, but it also lets us go into more detail."
   ]
  },
  {
   "cell_type": "code",
   "execution_count": 7,
   "metadata": {
    "collapsed": true
   },
   "outputs": [],
   "source": [
    "class Golden_Retriever(Dog):\n",
    "    # Notice the word `Dog` in parentheses in the line above.\n",
    "    # That says the Golden_Retriever class should copy the info inside the Dog class.\n",
    "    species = 'golden retriever'\n",
    "    fur_color = 'gold'\n",
    "    \n",
    "class Pekingese(Dog):\n",
    "    # Notice the word `Dog` in parentheses in the line above.\n",
    "    # That says the Pekingese class should copy the info inside the Dog class.\n",
    "    species = 'pekingese'\n",
    "    fur_color = 'white'"
   ]
  },
  {
   "cell_type": "markdown",
   "metadata": {},
   "source": [
    "Now we have two more classes, which are both subclasses of the Dog `class`. That means they can access the information from the Dog `class`, but they can also go into further detail than the Dog `class` can."
   ]
  },
  {
   "cell_type": "code",
   "execution_count": 8,
   "metadata": {},
   "outputs": [
    {
     "name": "stdout",
     "output_type": "stream",
     "text": [
      "Snoopy's scientific name: canis lupus familiaris\n",
      "Sammy's scientific name: canis lupus familiaris\n",
      "Lucy's scientific name: canis lupus familiaris\n"
     ]
    }
   ],
   "source": [
    "Snoopy = Dog() # This is how we make a new dog.\n",
    "Sammy = Golden_Retriever() # This is how we make a new golden retriever.\n",
    "Lucy = Pekingese() # This is how we make a new pekingese.\n",
    "\n",
    "print(\"Snoopy's scientific name:\", Snoopy.scientific_name)\n",
    "print(\"Sammy's scientific name:\", Sammy.scientific_name)\n",
    "print(\"Lucy's scientific name:\", Lucy.scientific_name)"
   ]
  },
  {
   "cell_type": "markdown",
   "metadata": {},
   "source": [
    "In the cell above, notice how all three dogs could access the attribute `scientific_name` from the Dog `class`. Snoopy could access it because he literally is a Dog. Meanwhile, Sammy and Lucy could access it because the Golden_Retriever `class` and the Pekingese `class` both inherit from the Dog `class`.\n",
    "\n",
    "Sammy and Lucy can also access a `fur_color` attribute, which is specific to the Golden_Retriever `class` and the Pekingese `class`. However, notice that the next cell causes an error because Snoopy is a Dog — not a Golden_Retriever or a Pekingese — and the Dog `class` has no `fur_color` attribute."
   ]
  },
  {
   "cell_type": "code",
   "execution_count": 9,
   "metadata": {},
   "outputs": [
    {
     "name": "stdout",
     "output_type": "stream",
     "text": [
      "Sammy's fur color: gold\n",
      "Lucy's fur color: white\n"
     ]
    },
    {
     "ename": "AttributeError",
     "evalue": "'Dog' object has no attribute 'fur_color'",
     "output_type": "error",
     "traceback": [
      "\u001b[1;31m---------------------------------------------------------------------------\u001b[0m",
      "\u001b[1;31mAttributeError\u001b[0m                            Traceback (most recent call last)",
      "\u001b[1;32m<ipython-input-9-b3db9cb0e071>\u001b[0m in \u001b[0;36m<module>\u001b[1;34m()\u001b[0m\n\u001b[0;32m      1\u001b[0m \u001b[0mprint\u001b[0m\u001b[1;33m(\u001b[0m\u001b[1;34m\"Sammy's fur color:\"\u001b[0m\u001b[1;33m,\u001b[0m \u001b[0mSammy\u001b[0m\u001b[1;33m.\u001b[0m\u001b[0mfur_color\u001b[0m\u001b[1;33m)\u001b[0m\u001b[1;33m\u001b[0m\u001b[0m\n\u001b[0;32m      2\u001b[0m \u001b[0mprint\u001b[0m\u001b[1;33m(\u001b[0m\u001b[1;34m\"Lucy's fur color:\"\u001b[0m\u001b[1;33m,\u001b[0m \u001b[0mLucy\u001b[0m\u001b[1;33m.\u001b[0m\u001b[0mfur_color\u001b[0m\u001b[1;33m)\u001b[0m\u001b[1;33m\u001b[0m\u001b[0m\n\u001b[1;32m----> 3\u001b[1;33m \u001b[0mprint\u001b[0m\u001b[1;33m(\u001b[0m\u001b[1;34m\"Snoopy's fur color:\"\u001b[0m\u001b[1;33m,\u001b[0m \u001b[0mSnoopy\u001b[0m\u001b[1;33m.\u001b[0m\u001b[0mfur_color\u001b[0m\u001b[1;33m)\u001b[0m\u001b[1;33m\u001b[0m\u001b[0m\n\u001b[0m",
      "\u001b[1;31mAttributeError\u001b[0m: 'Dog' object has no attribute 'fur_color'"
     ]
    }
   ],
   "source": [
    "print(\"Sammy's fur color:\", Sammy.fur_color)\n",
    "print(\"Lucy's fur color:\", Lucy.fur_color)\n",
    "print(\"Snoopy's fur color:\", Snoopy.fur_color)"
   ]
  },
  {
   "cell_type": "markdown",
   "metadata": {},
   "source": [
    "Okay, but what about things that are even more specific? What about things that are different for every golden retriever? Like its weight or name, for example? Now we have to define a special function inside the Golden_Retriever `class`. It's called the `__init__` function, short for 'initialize', and it gets executed immediately after we make any new golden retriever. The first parameter is always `self`, which is bound to the new golden retriever that we're creating. The other parameters can be whatever specific variables you want. We'll pick `name` and `weight` to start off."
   ]
  },
  {
   "cell_type": "code",
   "execution_count": 11,
   "metadata": {
    "collapsed": true
   },
   "outputs": [],
   "source": [
    "class Golden_Retriever(Dog):\n",
    "    def __init__(self, name, weight):\n",
    "        # Remember, `self` is bound to the new golden retreiver being created.\n",
    "        self.name = name # Give `self` an attribute `name`, bound to the value of the parameter `name`.\n",
    "        self.weight = weight # Give `self` an attribute `weight`, bound to the value of the parameter `weight`."
   ]
  },
  {
   "cell_type": "code",
   "execution_count": 12,
   "metadata": {},
   "outputs": [
    {
     "name": "stdout",
     "output_type": "stream",
     "text": [
      "Sammy's name is: Sammy\n",
      "Sammy's weight is: 30\n"
     ]
    }
   ],
   "source": [
    "Sammy = Golden_Retriever('Sammy', 30)\n",
    "print(\"Sammy's name is:\", Sammy.name)\n",
    "print(\"Sammy's weight is:\", Sammy.weight)"
   ]
  },
  {
   "cell_type": "markdown",
   "metadata": {},
   "source": [
    "Note that those specific parameters — `name` and `weight` — are defined only for specific golden retrievers. Those parameters don't exist for the larger Golden_Retriever `class` itself. The next cell causes an error because the Golden_Retriever `class` has no `name` parameter. Only specific golden retrievers, like Sammy, have that."
   ]
  },
  {
   "cell_type": "code",
   "execution_count": 13,
   "metadata": {},
   "outputs": [
    {
     "ename": "AttributeError",
     "evalue": "type object 'Golden_Retriever' has no attribute 'name'",
     "output_type": "error",
     "traceback": [
      "\u001b[1;31m---------------------------------------------------------------------------\u001b[0m",
      "\u001b[1;31mAttributeError\u001b[0m                            Traceback (most recent call last)",
      "\u001b[1;32m<ipython-input-13-bcdf7100efa3>\u001b[0m in \u001b[0;36m<module>\u001b[1;34m()\u001b[0m\n\u001b[1;32m----> 1\u001b[1;33m \u001b[0mprint\u001b[0m\u001b[1;33m(\u001b[0m\u001b[0mGolden_Retriever\u001b[0m\u001b[1;33m.\u001b[0m\u001b[0mname\u001b[0m\u001b[1;33m)\u001b[0m\u001b[1;33m\u001b[0m\u001b[0m\n\u001b[0m",
      "\u001b[1;31mAttributeError\u001b[0m: type object 'Golden_Retriever' has no attribute 'name'"
     ]
    }
   ],
   "source": [
    "print(Golden_Retriever.name)"
   ]
  },
  {
   "cell_type": "markdown",
   "metadata": {},
   "source": [
    "This was a brief introduction to the concepts of Object Oriented Programming. We will explain how this relates to our visualization in a later part of this module. Next, we will be going over the concept of basic list/dictionary comprehensions."
   ]
  },
  {
   "cell_type": "markdown",
   "metadata": {},
   "source": [
    "## What are Lists?"
   ]
  },
  {
   "cell_type": "markdown",
   "metadata": {},
   "source": [
    "Lists are a way to conveniently store data. In Python, we use brackets to denote lists. For example look at the next cell, where we define an empty list."
   ]
  },
  {
   "cell_type": "code",
   "execution_count": 14,
   "metadata": {
    "collapsed": true
   },
   "outputs": [],
   "source": [
    "empty = []"
   ]
  },
  {
   "cell_type": "markdown",
   "metadata": {},
   "source": [
    "Lists can store basically any value. In the next cell, you can see a list that contains the following items:\n",
    "<ul>\n",
    "<li>\\* A floating point number.</li>\n",
    "<li>\\* A string.</li>\n",
    "<li>\\* A `lambda` function.</li>\n",
    "<li>\\* Another list!</li>\n",
    "</ul>"
   ]
  },
  {
   "cell_type": "code",
   "execution_count": 15,
   "metadata": {
    "collapsed": true
   },
   "outputs": [],
   "source": [
    "my_list = [3.14, 'computer', lambda x: x, [7]]"
   ]
  },
  {
   "cell_type": "markdown",
   "metadata": {},
   "source": [
    "## What are Dictionaries?"
   ]
  },
  {
   "cell_type": "markdown",
   "metadata": {},
   "source": [
    "Dictionaries are a bit like lists, because they also let as store a lot of different values. They're a bit different, though, because dictionaries sort of \"translate\" an input element to an output element. For example, the dictionary in the next cell translates `'computer'` to `'computadora'`."
   ]
  },
  {
   "cell_type": "code",
   "execution_count": 16,
   "metadata": {},
   "outputs": [
    {
     "name": "stdout",
     "output_type": "stream",
     "text": [
      "'computer' translates to: computadora\n"
     ]
    }
   ],
   "source": [
    "english_to_spanish = {'computer': 'computadora'}\n",
    "print(\"'computer' translates to:\", english_to_spanish['computer'])"
   ]
  },
  {
   "cell_type": "markdown",
   "metadata": {},
   "source": [
    "Like lists, dictionaries can also store all kinds of values. The next cell has a dictionary that translates the following items:\n",
    "<ul>\n",
    "<li>\\* An integer ——> A string.</li>\n",
    "<li>\\* A `lambda` function ——> An empty list.</li>\n",
    "<li>\\* `None` ——> Another dictionary!</li>\n",
    "</ul>"
   ]
  },
  {
   "cell_type": "code",
   "execution_count": 17,
   "metadata": {
    "collapsed": true
   },
   "outputs": [],
   "source": [
    "my_dictionary = {5: 'solar', (lambda x: x) : [], None: {7: 17}}"
   ]
  },
  {
   "cell_type": "markdown",
   "metadata": {},
   "source": [
    "## List and Dictionary Comprehensions"
   ]
  },
  {
   "cell_type": "markdown",
   "metadata": {},
   "source": [
    "Sometimes we have a bunch of values already in a list or some other iterable, and we want to extract a *new* list from it. For example, perhaps I have a list of arbitrarily chosen numbers and I want to extract a new list that contains all the same numbers, but multiplied by `10`."
   ]
  },
  {
   "cell_type": "code",
   "execution_count": 18,
   "metadata": {},
   "outputs": [
    {
     "name": "stdout",
     "output_type": "stream",
     "text": [
      "[4, 8, 15, 16, 23, 42, 4, 8, 15, 16, 23, 42, 4, 8, 15, 16, 23, 42, 4, 8, 15, 16, 23, 42, 4, 8, 15, 16, 23, 42, 4, 8, 15, 16, 23, 42, 4, 8, 15, 16, 23, 42, 4, 8, 15, 16, 23, 42, 4, 8, 15, 16, 23, 42, 4, 8, 15, 16, 23, 42]\n"
     ]
    }
   ],
   "source": [
    "lst = [4, 8, 15, 16, 23, 42]\n",
    "# This doesn't work. It gives me a list 10 times as long!\n",
    "new = lst * 10\n",
    "print(new)"
   ]
  },
  {
   "cell_type": "markdown",
   "metadata": {},
   "source": [
    "Writing `lst * 10` doesn't work, because that just gives us a list that's 10 times as long as the one we want. The proper solution is a called a *list comprehension*. In the example below, `x` gets bound to each element in `lst`, one at a time. Then we add `x*10` to `new`, for each value that `x` takes on. First `x` gets assigned to `4`, and we add `4*10` to `new`. Then `x` gets assigned to `8`, and we add `8*10` to `new`. And so on."
   ]
  },
  {
   "cell_type": "code",
   "execution_count": 19,
   "metadata": {},
   "outputs": [
    {
     "name": "stdout",
     "output_type": "stream",
     "text": [
      "[40, 80, 150, 160, 230, 420]\n"
     ]
    }
   ],
   "source": [
    "lst = [4, 8, 15, 16, 23, 42]\n",
    "# This works. It's a list comprehension.\n",
    "new = [x * 10 for x in lst]\n",
    "print(new)"
   ]
  },
  {
   "cell_type": "markdown",
   "metadata": {},
   "source": [
    "We can also do dictionary comprehensions. It's just like a list comprehension, but we're making a dictionary instead. Like before, `x` gets bound to each element in `lst`, one at a time. But now we add a `(key: value)` pair to `new`, instead of just an element. First `x` gets assigned to `4`, so we add the mapping `(4*10: 4+4)` to `new`. Then `x` gets assigned to `8`, so we add the mapping `(8*10: 8+4)` to `new`. And so on."
   ]
  },
  {
   "cell_type": "code",
   "execution_count": 20,
   "metadata": {},
   "outputs": [
    {
     "name": "stdout",
     "output_type": "stream",
     "text": [
      "{80: 12, 160: 20, 420: 46, 150: 19, 230: 27, 40: 8}\n"
     ]
    }
   ],
   "source": [
    "lst = [4, 8, 15, 16, 23, 42]\n",
    "new = {x * 10: x + 4 for x in lst}\n",
    "print(new)"
   ]
  },
  {
   "cell_type": "markdown",
   "metadata": {},
   "source": [
    "Lists are a way to conveniently store data. In Python, we use brackets to denote lists. For example look at the next cell, where we define an empty list."
   ]
  },
  {
   "cell_type": "markdown",
   "metadata": {},
   "source": [
    "That was a basic introduction to lists and list comprehensions in Python. Now, let's see how we are going to use these tools to create our visualization."
   ]
  },
  {
   "cell_type": "markdown",
   "metadata": {},
   "source": [
    "# Network Visualization"
   ]
  },
  {
   "cell_type": "code",
   "execution_count": 21,
   "metadata": {
    "collapsed": true
   },
   "outputs": [],
   "source": [
    "#This cell contains important imports for our visualizations\n",
    "\n",
    "# These are imports that will help us draw the visualization\n",
    "import matplotlib.pyplot as plt\n",
    "import ipywidgets as widgets\n",
    "%matplotlib inline\n",
    "\n",
    "\n",
    "# These are general utility imports\n",
    "import csv\n",
    "import copy\n",
    "import networkx as nx\n",
    "from random import random\n",
    "\n",
    "\n",
    "size = plt.rcParams[\"figure.figsize\"] #This size is to be changed later, depending on Greg's preference \n"
   ]
  },
  {
   "cell_type": "code",
   "execution_count": 22,
   "metadata": {
    "collapsed": true
   },
   "outputs": [],
   "source": [
    "\"\"\"This is the class architecture for the visualization. We have a Network class which represents the overall network, and a \n",
    "person class which acts as a 'template' for each person in the visualization. Similar to how the Dog class in the examples\n",
    "acted as a template for dogs, the Person class takes in information unique for each person, but still maintains the same\n",
    "overall form from person to person\"\"\"\n",
    "\n",
    "class Network(nx.DiGraph):\n",
    "    \"\"\"Network class.\"\"\"\n",
    "    def __init__(self):\n",
    "        nx.DiGraph.__init__(self)  #We are initializing the network as a DiGraph, which is a directed graph\n",
    "        self.population = {} #The population in our network is initially nothing/empty, since we haven't added people yet!\n",
    "\n",
    "    def add_node(self, person):\n",
    "        nx.DiGraph.add_node(self, person) #We are using the library's add_node function, which adds a node to the graph with the\n",
    "                                          #specific properties of the person that was passed into the function\n",
    "        self.population[person.id] = person #We are adding the recently added person into our population dictionary\n",
    "\n",
    "\n",
    "class Person:\n",
    "    \"\"\"Person class.\"\"\"\n",
    "    empty = set()\n",
    "\n",
    "    def __init__(self, id, conn1, conn2, conn3, start, duration, end):  \n",
    "        #This method initializes a person based on the parameters passed in, namely an ID and a list of connections (friends)\n",
    "        #Additionally, each person is given a start and end time when their friendships begin and end.\n",
    "        self.id = id\n",
    "        self.pos = (random()*size[0], random()*size[1])\n",
    "        self.potential_connections = set((conn1, conn2, conn3))\n",
    "        self.start = start\n",
    "        self.duration = duration\n",
    "        self.end = end\n",
    "\n",
    "    def connections(self, step): \n",
    "        #This function returns the connections that a person has if the network is in the right duration period\n",
    "        if self.start <= step < self.duration:\n",
    "            return self.potential_connections\n",
    "        return Person.empty"
   ]
  },
  {
   "cell_type": "code",
   "execution_count": 23,
   "metadata": {},
   "outputs": [],
   "source": [
    "\"\"\"This method reads each row in the csv file with the node information, creates a Person object for each row's information, \n",
    "and then adds that person to the network visualization\"\"\"\n",
    "\n",
    "def init_network():\n",
    "    network = Network() #This lines create an empty network\n",
    "    with open('network.csv') as file: \n",
    "        #The following block opens the network csv file, and makes a new person for each row in the csv file \n",
    "        #Each row in the file contains information for one person. Open the CSV file if you are confused about the format.\n",
    "        reader = csv.reader(file, delimiter=',')\n",
    "        labels = next(reader)\n",
    "        for row in reader:\n",
    "            row = [int(param) for param in row]\n",
    "            person = Person(*row)\n",
    "            network.add_node(person) #Add the newly created person to the network\n",
    "    return network\n",
    "\n",
    "\n",
    "blank_network = init_network()"
   ]
  },
  {
   "cell_type": "code",
   "execution_count": 26,
   "metadata": {
    "collapsed": true
   },
   "outputs": [],
   "source": [
    "#This function draws the specific network depending on which step/time frame the network is in\n",
    "#The list comprehensions in this block are somewhat complicated, but see if you can understand the general structure\n",
    "\n",
    "def get_frame(step):\n",
    "    network = copy.deepcopy(blank_network)\n",
    "    for person in network.nodes():\n",
    "        for other in person.connections(step):\n",
    "            network.add_edge(person, network.population[other]) #The above block draws all the connections for each person\n",
    "    pos = {person: person.pos for person in network.nodes()}\n",
    "    node_connections = [len(person.connections(step)) for person in network.nodes()]\n",
    "    plt.figure(3,figsize=(16,16)) \n",
    "    nx.draw(network, pos, node_size=8, cmap=plt.get_cmap('jet'),\n",
    "            node_color=node_connections, width=0.4)\n",
    "    plt.show()"
   ]
  },
  {
   "cell_type": "code",
   "execution_count": 27,
   "metadata": {},
   "outputs": [
    {
     "data": {
      "application/vnd.jupyter.widget-view+json": {
       "model_id": "73b2eaf7b67d42d9bd2ab0f9753dc8cb"
      }
     },
     "metadata": {},
     "output_type": "display_data"
    }
   ],
   "source": [
    "#This line adds the slider to the graph (using Python widgets)\n",
    "\n",
    "_ = widgets.interact(get_frame, step=widgets.IntSlider(min=0, max=300, value=0))"
   ]
  },
  {
   "cell_type": "markdown",
   "metadata": {
    "collapsed": true
   },
   "source": [
    "Play around with the network by stepping it forward and backwards through time, and see how the different connections evolve! A few notes on the graph\n",
    "    1. You may have a red box above your graph that looks like an error message, but just ignore it\n",
    "    2. Colors represent the amount of connections that a certain node has. Blue indicates 1, and Red indicates multiple\n",
    "    3. At any step, right click on the visualization and you will have the option to save the image as a photo file."
   ]
  },
  {
   "cell_type": "markdown",
   "metadata": {
    "collapsed": true
   },
   "source": [
    "As you can see, we've created an awesome prototype of basic social network evolution. Review the lab and see how the programming methods explained at the top of the module were used in creating the visualization. See if you can play around and create your own network visualizations with different parameters!"
   ]
  }
 ],
 "metadata": {
  "kernelspec": {
   "display_name": "Python 3",
   "language": "python",
   "name": "python3"
  },
  "language_info": {
   "codemirror_mode": {
    "name": "ipython",
    "version": 3
   },
   "file_extension": ".py",
   "mimetype": "text/x-python",
   "name": "python",
   "nbconvert_exporter": "python",
   "pygments_lexer": "ipython3",
   "version": "3.5.3"
  },
  "widgets": {
   "state": {
    "cdebaa04ab464ed685cedd737413b838": {
     "views": [
      {
       "cell_index": 5
      }
     ]
    }
   },
   "version": "1.2.0"
  }
 },
 "nbformat": 4,
 "nbformat_minor": 2
}
