{
 "cells": [
  {
   "cell_type": "markdown",
   "metadata": {},
   "source": [
    "# Data Arts Module 2: Social Network Evolution"
   ]
  },
  {
   "cell_type": "markdown",
   "metadata": {},
   "source": [
    "## Intro"
   ]
  },
  {
   "cell_type": "markdown",
   "metadata": {},
   "source": [
    "In this module, we will write code that allows us to visualize the evolution of a social network over time. We load data out of CSV, which represents people meeting each other and then losing contact with them, then we will plot that data on a graph that shows us the network as it evolves. \n",
    "\n",
    "In order to create this visualization, we are going to need to understand a few principles of the Python programming language. Before you proceed, read the three notes inside the \"Concepts in Programming\" folder. These will familiarize you with the topics of object oriented programming, list and dictionary comprehensions, and functional programming."
   ]
  },
  {
   "cell_type": "markdown",
   "metadata": {},
   "source": [
    "## 1. Importing Libraries"
   ]
  },
  {
   "cell_type": "markdown",
   "metadata": {},
   "source": [
    "Lucky for us, other data scientists also like plotting data in Python. They have already written large compilations of code, called libraries, which handle making and drawing graphs in Python. Since these libraries are published online, we have access to all that hard work too! That means we can use code from those libraries to handle drawing the graph, so we only need to worry about loading our data into it.\n",
    "\n",
    "You don't need to worry too much about the code in the next cell. It's purpose is to import libraries that other people have written, so that we have access to them later on."
   ]
  },
  {
   "cell_type": "code",
   "execution_count": 10,
   "metadata": {
    "collapsed": true
   },
   "outputs": [],
   "source": [
    "import matplotlib.pyplot as plt # Helps us draw graphs.\n",
    "import ipywidgets as widgets    # Helps us make graphs that change, like with a slider.\n",
    "%matplotlib inline\n",
    "\n",
    "import csv                      # Helps us read data from a CSV file.\n",
    "import copy                     # Helps us copy Python objects without weird errors.\n",
    "import networkx as nx           # Helps us make the actual network.\n",
    "from random import random       # Helps us generate random numbers.\n",
    "\n",
    "size = plt.rcParams[\"figure.figsize\"]"
   ]
  },
  {
   "cell_type": "code",
   "execution_count": 11,
   "metadata": {
    "collapsed": true
   },
   "outputs": [],
   "source": [
    "class Network(nx.DiGraph):\n",
    "    \"\"\"Network class.\"\"\"\n",
    "    \n",
    "    # Initialize a new Network.\n",
    "    def __init__(self):\n",
    "        \"\"\"Initialize a new Network as we would initialize a DiGraph, or directed graph. The\n",
    "        new Network needs a population, which starts out empty because we haven't added any\n",
    "        people yet!\n",
    "        \"\"\"\n",
    "        nx.DiGraph.__init__(self)\n",
    "        self.population = {}\n",
    "\n",
    "    def add_node(self, person):\n",
    "        \"\"\"This function will add a new Person into the Network! We'll use the `nx.DiGraph`\n",
    "        library we imported earlier, so it can handle all the complicated stuff. We just need\n",
    "        to tell it that the value of the new node is the person that this function takes as\n",
    "        input. This also means the population of the Network has been modified, so let's add\n",
    "        the person into the population dictionary too, mapping from the person's id to the\n",
    "        actual Person object.\n",
    "        \"\"\"\n",
    "        nx.DiGraph.add_node(self, person)\n",
    "        self.population[person.id] = person\n",
    "\n",
    "class Person:\n",
    "    \"\"\"Person class.\"\"\"\n",
    "    \n",
    "    empty = set() # When someone has no connections, we'll refer to this empty set.\n",
    "\n",
    "    def __init__(self, id, conn1, conn2, conn3, start, duration, end):\n",
    "        \"\"\"Initialize a new Person. We'll take as input all the data that we gathered from the\n",
    "        CSV. This includes an id, 3 connections, a start time, a duration of the friendship,\n",
    "        and an end time. All this info should be stored in the new Person object that we're\n",
    "        making. Notice that we store the Person's connections not as 3 variables, but rather\n",
    "        as a set containing 3 elements. This is just in case we want to give a Person more than\n",
    "        3 connections in the future. We also give each Person a `pos`, or position. This is a\n",
    "        random (x, y) coordinate within the size of the graph.\n",
    "        \"\"\"\n",
    "        self.id = id\n",
    "        self.pos = (random() * size[0], random() * size[1])\n",
    "        self.potential_connections = set((conn1, conn2, conn3))\n",
    "        self.start = start\n",
    "        self.duration = duration\n",
    "        self.end = end\n",
    "\n",
    "    def connections(self, step):\n",
    "        \"\"\"Get a set containing all the connections the Person has at a particular time step.\n",
    "        If the time is between the start and end of the friendship, then we'll return the\n",
    "        connections the Person has. Meanwhile, if the friendship hasn't started, or if it has\n",
    "        already ended, then we will return the empty set of no connections.\n",
    "        \"\"\"\n",
    "        if self.start <= step < self.end:\n",
    "            return self.potential_connections\n",
    "        return Person.empty"
   ]
  },
  {
   "cell_type": "code",
   "execution_count": 12,
   "metadata": {
    "collapsed": true
   },
   "outputs": [],
   "source": [
    "def init_network(file_name):\n",
    "    \"\"\"This function will initialize a Network full of People representing the data in a CSV.\n",
    "    First create a totally blank Network. Then read each row in the designated CSV file. For\n",
    "    each row, create a new Person using the info in that row. Then add that Person into the\n",
    "    blank Network. When it's all done and every Person has been added, return the Network,\n",
    "    now containing all the people described in the CSV.\n",
    "    \"\"\"\n",
    "    network = Network() # Initialize a blank Network.\n",
    "    with open(file_name) as file: \n",
    "        # Open the CSV file, and make a `reader` that can understand the data inside.\n",
    "        reader = csv.reader(file, delimiter=',')\n",
    "        labels = next(reader)\n",
    "        # Then, for every row in the file ...\n",
    "        for row in reader:\n",
    "            row = [int(param) for param in row] # Make a list containing the data from the row.\n",
    "            person = Person(*row) # Then use that data to make a new Person.\n",
    "            network.add_node(person) # Finally, add the new Person into our blank Network.\n",
    "    return network\n",
    "\n",
    "blank_network = init_network('network.csv') # Make a Network using our specific CSV."
   ]
  },
  {
   "cell_type": "code",
   "execution_count": 20,
   "metadata": {
    "collapsed": true
   },
   "outputs": [],
   "source": [
    "def get_frame(step):\n",
    "    \"\"\"This function will draw a Network that contains only the connections that should be\n",
    "    active at the given time step. ie, it only shows the friendships that are currently alive.\n",
    "    \"\"\"\n",
    "    # First, add all the edges that should be included in the Network at this time step.\n",
    "    network = copy.deepcopy(blank_network)\n",
    "    for person in network.nodes(): # For every person ...\n",
    "        for other in person.connections(step): # And every one of their current friends ...\n",
    "            network.add_edge(person, network.population[other]) # Add an edge connecting them.\n",
    "    # Then, draw the Network.\n",
    "    # `pos` maps each Person to an (x, y) coordinate.\n",
    "    # `node_connections` is how many connections each node has.\n",
    "    # We use `node_connections` to give each node a color (bluer = fewer, redder = more).\n",
    "    pos = {person: person.pos for person in network.nodes()}\n",
    "    node_connections = [len(person.connections(step)) for person in network.nodes()]\n",
    "    # This stuff below draws a pretty graph, using the libraries we imported before.\n",
    "    # It's not important to know how these work, since you need knowledge of those libraries.\n",
    "    plt.figure(3, figsize=(16, 16)) \n",
    "    nx.draw(network, pos, node_size=24, cmap=plt.get_cmap('jet'), node_color=node_connections,\n",
    "            width=0.8)\n",
    "    plt.show()"
   ]
  },
  {
   "cell_type": "code",
   "execution_count": 23,
   "metadata": {},
   "outputs": [
    {
     "data": {
      "application/vnd.jupyter.widget-view+json": {
       "model_id": "b15f0ca837ea4a2b82e673d82111b36c"
      }
     },
     "metadata": {},
     "output_type": "display_data"
    }
   ],
   "source": [
    "# This line adds the slider to the graph using Python widgets.\n",
    "_ = widgets.interact(get_frame, step=widgets.IntSlider(min=0, max=300, value=0))\n",
    "\n",
    "# NOTE:\n",
    "# You may see a red error box, upon executing this line.\n",
    "# That's chill, it's just a warning for the people who made one of the libraries we're using."
   ]
  },
  {
   "cell_type": "markdown",
   "metadata": {
    "collapsed": true
   },
   "source": [
    "Play around with the network by stepping it forward and backwards through time, and see how the different connections evolve! You can right-click on the visualization at any time step to save the image, if you like."
   ]
  },
  {
   "cell_type": "markdown",
   "metadata": {
    "collapsed": true
   },
   "source": [
    "As you can see, we've created an awesome prototype of basic social network evolution. Review the lab and see how the programming methods explained at the top of the module were used in creating the visualization. See if you can play around and create your own network visualizations with different parameters!"
   ]
  }
 ],
 "metadata": {
  "kernelspec": {
   "display_name": "Python 3",
   "language": "python",
   "name": "python3"
  },
  "language_info": {
   "codemirror_mode": {
    "name": "ipython",
    "version": 3
   },
   "file_extension": ".py",
   "mimetype": "text/x-python",
   "name": "python",
   "nbconvert_exporter": "python",
   "pygments_lexer": "ipython3",
   "version": "3.6.1"
  },
  "widgets": {
   "state": {
    "cdebaa04ab464ed685cedd737413b838": {
     "views": [
      {
       "cell_index": 5
      }
     ]
    }
   },
   "version": "1.2.0"
  }
 },
 "nbformat": 4,
 "nbformat_minor": 2
}
