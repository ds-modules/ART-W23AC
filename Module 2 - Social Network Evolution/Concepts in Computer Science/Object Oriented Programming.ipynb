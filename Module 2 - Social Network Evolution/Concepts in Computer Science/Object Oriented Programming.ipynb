{
 "cells": [
  {
   "cell_type": "markdown",
   "metadata": {},
   "source": [
    "# Intro to Object Oriented Programming"
   ]
  },
  {
   "cell_type": "markdown",
   "metadata": {},
   "source": [
    "## What is Object Oriented Programming?"
   ]
  },
  {
   "cell_type": "markdown",
   "metadata": {},
   "source": [
    "Object oriented programming, or OOP, is a way to think about data in a more tangible way. It lets us organize descriptions of objects into what we call a `class`. For example, let's say I want to write code that describes a dog. I would define a new `class` for all dogs, and the `class` would represent my idea of what it means to be a dog."
   ]
  },
  {
   "cell_type": "code",
   "execution_count": 3,
   "metadata": {
    "collapsed": true
   },
   "outputs": [],
   "source": [
    "class Dog:\n",
    "    # This is where I define what it means to be a dog.\n",
    "    scientific_name = 'canis lupus familiaris'\n",
    "    home_planet = 'Earth'"
   ]
  },
  {
   "cell_type": "markdown",
   "metadata": {},
   "source": [
    "Cool! But now we have a slight problem. The Dog `class` needs to describe *every* dog ever, not just some of them. That means we can't specify some important things — like species, or weight, or fur color — because then the Dog `class` wouldn't really define what it means to be a dog. Instead, it would just define what it means to be some particular kind of dog.\n",
    "\n",
    "The solution is called inheritance. We can define a more specific `class` that copies over all the information from the Dog `class`, but it also lets us go into more detail."
   ]
  },
  {
   "cell_type": "code",
   "execution_count": 8,
   "metadata": {
    "collapsed": true
   },
   "outputs": [],
   "source": [
    "class Golden_Retriever(Dog):\n",
    "    # Notice the word `Dog` in parentheses in the line above.\n",
    "    # That says the Golden_Retriever class should copy the info inside the Dog class.\n",
    "    species = 'golden retriever'\n",
    "    fur_color = 'gold'\n",
    "    \n",
    "class Pekingese(Dog):\n",
    "    # Notice the word `Dog` in parentheses in the line above.\n",
    "    # That says the Pekingese class should copy the info inside the Dog class.\n",
    "    species = 'pekingese'\n",
    "    fur_color = 'white'"
   ]
  },
  {
   "cell_type": "markdown",
   "metadata": {},
   "source": [
    "Now we have two more classes, which are both subclasses of the Dog `class`. That means they can access the information from the Dog `class`, but they can also go into further detail than the Dog `class` can."
   ]
  },
  {
   "cell_type": "code",
   "execution_count": 9,
   "metadata": {},
   "outputs": [
    {
     "name": "stdout",
     "output_type": "stream",
     "text": [
      "Snoopy's scientific name: canis lupus familiaris\n",
      "Sammy's scientific name: canis lupus familiaris\n",
      "Lucy's scientific name: canis lupus familiaris\n"
     ]
    }
   ],
   "source": [
    "Snoopy = Dog() # This is how we make a new dog.\n",
    "Sammy = Golden_Retriever() # This is how we make a new golden retriever.\n",
    "Lucy = Pekingese() # This is how we make a new pekingese.\n",
    "\n",
    "print(\"Snoopy's scientific name:\", Snoopy.scientific_name)\n",
    "print(\"Sammy's scientific name:\", Sammy.scientific_name)\n",
    "print(\"Lucy's scientific name:\", Lucy.scientific_name)"
   ]
  },
  {
   "cell_type": "markdown",
   "metadata": {},
   "source": [
    "In the cell above, notice how all three dogs could access the attribute `scientific_name` from the Dog `class`. Snoopy could access it because he literally is a Dog. Meanwhile, Sammy and Lucy could access it because the Golden_Retriever `class` and the Pekingese `class` both inherit from the Dog `class`.\n",
    "\n",
    "Sammy and Lucy can also access a `fur_color` attribute, which is specific to the Golden_Retriever `class` and the Pekingese `class`. However, notice that the next cell causes an error because Snoopy is a Dog — not a Golden_Retriever or a Pekingese — and the Dog `class` has no `fur_color` attribute."
   ]
  },
  {
   "cell_type": "code",
   "execution_count": 10,
   "metadata": {
    "scrolled": true
   },
   "outputs": [
    {
     "name": "stdout",
     "output_type": "stream",
     "text": [
      "Sammy's fur color: gold\n",
      "Lucy's fur color: white\n"
     ]
    },
    {
     "ename": "AttributeError",
     "evalue": "'Dog' object has no attribute 'fur_color'",
     "output_type": "error",
     "traceback": [
      "\u001b[0;31m---------------------------------------------------------------------------\u001b[0m",
      "\u001b[0;31mAttributeError\u001b[0m                            Traceback (most recent call last)",
      "\u001b[0;32m<ipython-input-10-b3db9cb0e071>\u001b[0m in \u001b[0;36m<module>\u001b[0;34m()\u001b[0m\n\u001b[1;32m      1\u001b[0m \u001b[0mprint\u001b[0m\u001b[0;34m(\u001b[0m\u001b[0;34m\"Sammy's fur color:\"\u001b[0m\u001b[0;34m,\u001b[0m \u001b[0mSammy\u001b[0m\u001b[0;34m.\u001b[0m\u001b[0mfur_color\u001b[0m\u001b[0;34m)\u001b[0m\u001b[0;34m\u001b[0m\u001b[0m\n\u001b[1;32m      2\u001b[0m \u001b[0mprint\u001b[0m\u001b[0;34m(\u001b[0m\u001b[0;34m\"Lucy's fur color:\"\u001b[0m\u001b[0;34m,\u001b[0m \u001b[0mLucy\u001b[0m\u001b[0;34m.\u001b[0m\u001b[0mfur_color\u001b[0m\u001b[0;34m)\u001b[0m\u001b[0;34m\u001b[0m\u001b[0m\n\u001b[0;32m----> 3\u001b[0;31m \u001b[0mprint\u001b[0m\u001b[0;34m(\u001b[0m\u001b[0;34m\"Snoopy's fur color:\"\u001b[0m\u001b[0;34m,\u001b[0m \u001b[0mSnoopy\u001b[0m\u001b[0;34m.\u001b[0m\u001b[0mfur_color\u001b[0m\u001b[0;34m)\u001b[0m\u001b[0;34m\u001b[0m\u001b[0m\n\u001b[0m",
      "\u001b[0;31mAttributeError\u001b[0m: 'Dog' object has no attribute 'fur_color'"
     ]
    }
   ],
   "source": [
    "print(\"Sammy's fur color:\", Sammy.fur_color)\n",
    "print(\"Lucy's fur color:\", Lucy.fur_color)\n",
    "print(\"Snoopy's fur color:\", Snoopy.fur_color)"
   ]
  },
  {
   "cell_type": "markdown",
   "metadata": {},
   "source": [
    "Okay, but what about things that are even more specific? What about things that are different for every golden retriever? Like its weight or name, for example? Now we have to define a special function inside the Golden_Retriever `class`. It's called the `__init__` function, short for 'initialize', and it gets executed immediately after we make any new golden retriever. The first parameter is always `self`, which is bound to the new golden retriever that we're creating. The other parameters can be whatever specific variables you want. We'll pick `name` and `weight` to start off."
   ]
  },
  {
   "cell_type": "code",
   "execution_count": 13,
   "metadata": {
    "collapsed": true
   },
   "outputs": [],
   "source": [
    "class Golden_Retriever(Dog):\n",
    "    def __init__(self, name, weight):\n",
    "        # Remember, `self` is bound to the new golden retreiver being created.\n",
    "        self.name = name # Give `self` an attribute `name`, bound to the value of the parameter `name`.\n",
    "        self.weight = weight # Give `self` an attribute `weight`, bound to the value of the parameter `weight`."
   ]
  },
  {
   "cell_type": "code",
   "execution_count": 14,
   "metadata": {},
   "outputs": [
    {
     "name": "stdout",
     "output_type": "stream",
     "text": [
      "Sammy's name is: Sammy\n",
      "Sammy's weight is: 30\n"
     ]
    }
   ],
   "source": [
    "Sammy = Golden_Retriever('Sammy', 30)\n",
    "print(\"Sammy's name is:\", Sammy.name)\n",
    "print(\"Sammy's weight is:\", Sammy.weight)"
   ]
  },
  {
   "cell_type": "markdown",
   "metadata": {},
   "source": [
    "Note that those specific parameters — `name` and `weight` — are defined only for specific golden retrievers. Those parameters don't exist for the larger Golden_Retriever `class` itself. The next cell causes an error because the Golden_Retriever `class` has no `name` parameter. Only specific golden retrievers, like Sammy, have that."
   ]
  },
  {
   "cell_type": "code",
   "execution_count": 15,
   "metadata": {
    "scrolled": true
   },
   "outputs": [
    {
     "ename": "AttributeError",
     "evalue": "type object 'Golden_Retriever' has no attribute 'name'",
     "output_type": "error",
     "traceback": [
      "\u001b[0;31m---------------------------------------------------------------------------\u001b[0m",
      "\u001b[0;31mAttributeError\u001b[0m                            Traceback (most recent call last)",
      "\u001b[0;32m<ipython-input-15-bcdf7100efa3>\u001b[0m in \u001b[0;36m<module>\u001b[0;34m()\u001b[0m\n\u001b[0;32m----> 1\u001b[0;31m \u001b[0mprint\u001b[0m\u001b[0;34m(\u001b[0m\u001b[0mGolden_Retriever\u001b[0m\u001b[0;34m.\u001b[0m\u001b[0mname\u001b[0m\u001b[0;34m)\u001b[0m\u001b[0;34m\u001b[0m\u001b[0m\n\u001b[0m",
      "\u001b[0;31mAttributeError\u001b[0m: type object 'Golden_Retriever' has no attribute 'name'"
     ]
    }
   ],
   "source": [
    "print(Golden_Retriever.name)"
   ]
  },
  {
   "cell_type": "markdown",
   "metadata": {},
   "source": [
    "## Takeaways"
   ]
  },
  {
   "cell_type": "markdown",
   "metadata": {},
   "source": [
    "Object orinted programming is important to our network, because we use it to define a `class` for the Network, and a `class` for each Person.\n",
    "1. The Network `class` inherits from `nx.DiGraph`, which is defined in the graphing module that we imported. It represents what a Network should be. There's all the functionality of a directed graph, but we also include a `population` parameter. Notice `population` is a dictionary mapping `id` to a Person, so that we can keep track of everyone based on their `id`.\n",
    "2. The Person `class` defines what it means to be a Person. It includes specific parameters for all the information we imported from the `csv` file — including an `id`, 3 connections, a `start` time, a `duration` time, and an `end` time."
   ]
  }
 ],
 "metadata": {
  "kernelspec": {
   "display_name": "Python 3",
   "language": "python",
   "name": "python3"
  },
  "language_info": {
   "codemirror_mode": {
    "name": "ipython",
    "version": 3
   },
   "file_extension": ".py",
   "mimetype": "text/x-python",
   "name": "python",
   "nbconvert_exporter": "python",
   "pygments_lexer": "ipython3",
   "version": "3.6.1"
  }
 },
 "nbformat": 4,
 "nbformat_minor": 2
}
