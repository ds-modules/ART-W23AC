{
 "cells": [
  {
   "cell_type": "markdown",
   "metadata": {},
   "source": [
    "# Intro to List and Dictionary Comprehensions"
   ]
  },
  {
   "cell_type": "markdown",
   "metadata": {},
   "source": [
    "## What are Lists?"
   ]
  },
  {
   "cell_type": "markdown",
   "metadata": {},
   "source": [
    "Lists are a way to conveniently store data. In Python, we use brackets to denote lists. For example look at the next cell, where we define an empty list."
   ]
  },
  {
   "cell_type": "code",
   "execution_count": 2,
   "metadata": {
    "collapsed": true
   },
   "outputs": [],
   "source": [
    "empty = []"
   ]
  },
  {
   "cell_type": "markdown",
   "metadata": {},
   "source": [
    "Lists can store basically any value. In the next cell, you can see a list that contains the following items:\n",
    "<ul>\n",
    "<li>\\* A floating point number.</li>\n",
    "<li>\\* A string.</li>\n",
    "<li>\\* A `lambda` function.</li>\n",
    "<li>\\* Another list!</li>\n",
    "</ul>"
   ]
  },
  {
   "cell_type": "code",
   "execution_count": 1,
   "metadata": {
    "collapsed": true
   },
   "outputs": [],
   "source": [
    "my_list = [3.14, 'computer', lambda x: x, [7]]"
   ]
  },
  {
   "cell_type": "markdown",
   "metadata": {},
   "source": [
    "## What are Dictionaries?"
   ]
  },
  {
   "cell_type": "markdown",
   "metadata": {},
   "source": [
    "Dictionaries are a bit like lists, because they also let as store a lot of different values. They're a bit different, though, because dictionaries sort of \"translate\" an input element to an output element. For example, the dictionary in the next cell translates `'computer'` to `'computadora'`."
   ]
  },
  {
   "cell_type": "code",
   "execution_count": 3,
   "metadata": {},
   "outputs": [
    {
     "name": "stdout",
     "output_type": "stream",
     "text": [
      "'computer' translates to: computadora\n"
     ]
    }
   ],
   "source": [
    "english_to_spanish = {'computer': 'computadora'}\n",
    "print(\"'computer' translates to:\", english_to_spanish['computer'])"
   ]
  },
  {
   "cell_type": "markdown",
   "metadata": {},
   "source": [
    "Like lists, dictionaries can also store all kinds of values. The next cell has a dictionary that translates the following items:\n",
    "<ul>\n",
    "<li>\\* An integer ——> A string.</li>\n",
    "<li>\\* A `lambda` function ——> An empty list.</li>\n",
    "<li>\\* `None` ——> Another dictionary!</li>\n",
    "</ul>"
   ]
  },
  {
   "cell_type": "code",
   "execution_count": 8,
   "metadata": {},
   "outputs": [],
   "source": [
    "my_dictionary = {5: 'solar', (lambda x: x) : [], None: {7: 17}}"
   ]
  },
  {
   "cell_type": "markdown",
   "metadata": {},
   "source": [
    "## List and Dictionary Comprehensions"
   ]
  },
  {
   "cell_type": "markdown",
   "metadata": {},
   "source": [
    "Sometimes we have a bunch of values already in a list or some other iterable, and we want to extract a *new* list from it. For example, perhaps I have a list of arbitrarily chosen numbers and I want to extract a new list that contains all the same numbers, but multiplied by `10`."
   ]
  },
  {
   "cell_type": "code",
   "execution_count": 15,
   "metadata": {},
   "outputs": [
    {
     "name": "stdout",
     "output_type": "stream",
     "text": [
      "[4, 8, 15, 16, 23, 42, 4, 8, 15, 16, 23, 42, 4, 8, 15, 16, 23, 42, 4, 8, 15, 16, 23, 42, 4, 8, 15, 16, 23, 42, 4, 8, 15, 16, 23, 42, 4, 8, 15, 16, 23, 42, 4, 8, 15, 16, 23, 42, 4, 8, 15, 16, 23, 42, 4, 8, 15, 16, 23, 42]\n"
     ]
    }
   ],
   "source": [
    "lst = [4, 8, 15, 16, 23, 42]\n",
    "# This doesn't work. It gives me a list 10 times as long!\n",
    "new = lst * 10\n",
    "print(new)"
   ]
  },
  {
   "cell_type": "markdown",
   "metadata": {},
   "source": [
    "Writing `lst * 10` doesn't work, because that just gives us a list that's 10 times as long as the one we want. The proper solution is a called a *list comprehension*. In the example below, `x` gets bound to each element in `lst`, one at a time. Then we add `x*10` to `new`, for each value that `x` takes on. First `x` gets assigned to `4`, and we add `4*10` to `new`. Then `x` gets assigned to `8`, and we add `8*10` to `new`. And so on."
   ]
  },
  {
   "cell_type": "code",
   "execution_count": 17,
   "metadata": {},
   "outputs": [
    {
     "name": "stdout",
     "output_type": "stream",
     "text": [
      "[40, 80, 150, 160, 230, 420]\n"
     ]
    }
   ],
   "source": [
    "lst = [4, 8, 15, 16, 23, 42]\n",
    "# This works. It's a list comprehension.\n",
    "new = [x * 10 for x in lst]\n",
    "print(new)"
   ]
  },
  {
   "cell_type": "markdown",
   "metadata": {},
   "source": [
    "We can also do dictionary comprehensions. It's just like a list comprehension, but we're making a dictionary instead. Like before, `x` gets bound to each element in `lst`, one at a time. But now we add a `(key: value)` pair to `new`, instead of just an element. First `x` gets assigned to `4`, so we add the mapping `(4*10: 4+4)` to `new`. Then `x` gets assigned to `8`, so we add the mapping `(8*10: 8+4)` to `new`. And so on."
   ]
  },
  {
   "cell_type": "code",
   "execution_count": 19,
   "metadata": {},
   "outputs": [
    {
     "name": "stdout",
     "output_type": "stream",
     "text": [
      "{40: 8, 80: 12, 150: 19, 160: 20, 230: 27, 420: 46}\n"
     ]
    }
   ],
   "source": [
    "lst = [4, 8, 15, 16, 23, 42]\n",
    "new = {x * 10: x + 4 for x in lst}\n",
    "print(new)"
   ]
  }
 ],
 "metadata": {
  "kernelspec": {
   "display_name": "Python 3",
   "language": "python",
   "name": "python3"
  },
  "language_info": {
   "codemirror_mode": {
    "name": "ipython",
    "version": 3
   },
   "file_extension": ".py",
   "mimetype": "text/x-python",
   "name": "python",
   "nbconvert_exporter": "python",
   "pygments_lexer": "ipython3",
   "version": "3.6.1"
  }
 },
 "nbformat": 4,
 "nbformat_minor": 2
}
