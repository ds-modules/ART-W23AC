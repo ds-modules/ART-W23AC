{
 "cells": [
  {
   "cell_type": "markdown",
   "metadata": {},
   "source": [
    "# The Ideas of Functional Programming"
   ]
  },
  {
   "cell_type": "markdown",
   "metadata": {},
   "source": [
    "Unlike the notes on object oriented programming and list comprehensions, this note will not focus on the details of programming. Instead, we're going to take a zoomed-out approach, and we'll talk about some of the philosophy behind writing 'good code'."
   ]
  },
  {
   "cell_type": "markdown",
   "metadata": {},
   "source": [
    "## Parallelization"
   ]
  },
  {
   "cell_type": "markdown",
   "metadata": {},
   "source": [
    "Here's a common problem when you're crunching numbers on big data sets: your code is slow. You could optimize the heck out of it, but at the end of the day you still have *a lot* of data, and that's going to take time for any computer to process, no matter how fast your code runs. The solution? You break up the problem. Give half the problem to two different computers, and you just cut your waiting time in two! Better yet, divide the problem into thirds or fourths! This is called parallelization."
   ]
  },
  {
   "cell_type": "markdown",
   "metadata": {},
   "source": [
    "When you have different computers working on the same problem, you don't want one of them to be thinking `x` equals `10`, while the other is thinking `x` equals `11`. This leads us to the  important lesson that your code should never change the value of a variable. If `x` equals `10` at one time, then it should equal `10` always."
   ]
  },
  {
   "cell_type": "markdown",
   "metadata": {},
   "source": [
    "## Ease of Understanding"
   ]
  },
  {
   "cell_type": "markdown",
   "metadata": {},
   "source": [
    "Here's another problem that frequently arises in programming: your code is hard to read. That's why good programmers write comments in their code, so that others can understand it. But that's only part of the solution. Programmers should strive to write code that's intuitive, code that doesn't *have to* be explained with detailed comments."
   ]
  },
  {
   "cell_type": "markdown",
   "metadata": {},
   "source": [
    "Again, the moral here is that people should not change or reassign variables that have already been defined. If `x` equals `10` in one part of my program, but it equals `11` somewhere else, then that's a lot harder to understand than it would be if `x` was equal to `10` the whole time. This style of programming also lends itself to writing smaller and easier-to-read functions, instead of long step-by-step programs where things change as you go."
   ]
  },
  {
   "cell_type": "markdown",
   "metadata": {},
   "source": [
    "## Stateless Programs"
   ]
  },
  {
   "cell_type": "markdown",
   "metadata": {},
   "source": [
    "Another idea of functional programming is that programs should have no side effects. That means it doesn't matter what order you execute the functions in, because they can't change how any of the others will be executed. You can also read them in any order, without having to keep track of what happens when. Stateless programs are good for managing big data."
   ]
  },
  {
   "cell_type": "markdown",
   "metadata": {},
   "source": [
    "## Productivity"
   ]
  },
  {
   "cell_type": "markdown",
   "metadata": {},
   "source": [
    "It's no surprise that programmers can be more or less productive based on which language they use to write code. For example, writing in Python (as you do in this class) is much nicer than writing in Malbolge — a language designed to be so horrible, no one has ever been able to write a Malbolge program by hand. There is research that expands on this idea, suggesting that programmers are more productive writing in functional languages such as Haskell, Erlang, or Scala."
   ]
  },
  {
   "cell_type": "markdown",
   "metadata": {},
   "source": [
    "## Takeaways"
   ]
  },
  {
   "cell_type": "markdown",
   "metadata": {},
   "source": [
    "So, how does this all relate to our network? Well, there were two different approaches that we could've taken to solving the problem: the mutative way, and the functional way.\n",
    "\n",
    "1. The mutative way: At the beginning of the program, we would create an empty network. Then, as you move the slider forward, we would *change* the network by adding or removing connections from it. As you move the slider back, we would have to undo those changes in reverse order.\n",
    "\n",
    "2. The functional way: We define the empty network somewhere in the program. We also define a function that takes in a time, and it returns a copy of the network with all the connections that should be active during the specified time. When you move the slider to a new location, we just call that function again to get a new copy of the network, without having to worry about modifying an object.\n",
    "\n",
    "As you might be able to guess, we went with the functional way. In fact, that's exactly how our program works. The function `init_network` generates a new empty network. The function `get_frame` takes in a time, and it returns a copy of the network with all the active connections for the specified time."
   ]
  }
 ],
 "metadata": {
  "kernelspec": {
   "display_name": "Python 3",
   "language": "python",
   "name": "python3"
  },
  "language_info": {
   "codemirror_mode": {
    "name": "ipython",
    "version": 3
   },
   "file_extension": ".py",
   "mimetype": "text/x-python",
   "name": "python",
   "nbconvert_exporter": "python",
   "pygments_lexer": "ipython3",
   "version": "3.6.1"
  }
 },
 "nbformat": 4,
 "nbformat_minor": 2
}
