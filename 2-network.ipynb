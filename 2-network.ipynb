{
 "cells": [
  {
   "cell_type": "code",
   "execution_count": 1,
   "metadata": {
    "collapsed": true
   },
   "outputs": [],
   "source": [
    "# Drawing imports\n",
    "import matplotlib.pyplot as plt\n",
    "import ipywidgets as widgets\n",
    "%matplotlib inline\n",
    "\n",
    "\n",
    "# Utility imports\n",
    "import csv\n",
    "import copy\n",
    "import networkx as nx\n",
    "from random import random\n",
    "\n",
    "\n",
    "size = plt.rcParams[\"figure.figsize\"]"
   ]
  },
  {
   "cell_type": "code",
   "execution_count": 2,
   "metadata": {
    "collapsed": true
   },
   "outputs": [],
   "source": [
    "class Network(nx.DiGraph):\n",
    "    \"\"\"Network class.\"\"\"\n",
    "    def __init__(self):\n",
    "        nx.DiGraph.__init__(self)\n",
    "        self.population = {}\n",
    "\n",
    "    def add_node(self, person):\n",
    "        nx.DiGraph.add_node(self, person)\n",
    "        self.population[person.id] = person\n",
    "\n",
    "\n",
    "class Person:\n",
    "    \"\"\"Person class.\"\"\"\n",
    "    empty = set()\n",
    "\n",
    "    def __init__(self, id, conn1, conn2, conn3, start, duration, end):\n",
    "        self.id = id\n",
    "        self.pos = (random()*size[0], random()*size[1])\n",
    "        self.potential_connections = set((conn1, conn2, conn3))\n",
    "        self.start = start\n",
    "        self.duration = duration\n",
    "        self.end = end\n",
    "\n",
    "    def connections(self, step):\n",
    "        if self.start <= step < self.duration:\n",
    "            return self.potential_connections\n",
    "        return Person.empty"
   ]
  },
  {
   "cell_type": "code",
   "execution_count": 3,
   "metadata": {
    "collapsed": false
   },
   "outputs": [],
   "source": [
    "def init_network():\n",
    "    network = Network()\n",
    "    with open('network.csv') as file:\n",
    "        reader = csv.reader(file, delimiter=',')\n",
    "        labels = next(reader)\n",
    "        for row in reader:\n",
    "            row = [int(param) for param in row]\n",
    "            person = Person(*row)\n",
    "            network.add_node(person)\n",
    "    return network\n",
    "\n",
    "\n",
    "blank_network = init_network()"
   ]
  },
  {
   "cell_type": "code",
   "execution_count": 4,
   "metadata": {
    "collapsed": true
   },
   "outputs": [],
   "source": [
    "def get_frame(step):\n",
    "    network = copy.deepcopy(blank_network)\n",
    "    for person in network.nodes():\n",
    "        for other in person.connections(step):\n",
    "            network.add_edge(person, network.population[other])\n",
    "    pos = {person: person.pos for person in network.nodes()}\n",
    "    node_connections = [len(person.connections(step)) for person in network.nodes()]\n",
    "    nx.draw(network, pos, node_size=5, cmap=plt.get_cmap('jet'),\n",
    "            node_color=node_connections, width=0.1)"
   ]
  },
  {
   "cell_type": "code",
   "execution_count": 5,
   "metadata": {
    "collapsed": false
   },
   "outputs": [
    {
     "data": {
      "image/png": "[encoded data removed]",
      "text/plain": [
       "<matplotlib.figure.Figure at 0xeaa7b44a90>"
      ]
     },
     "metadata": {},
     "output_type": "display_data"
    }
   ],
   "source": [
    "_ = widgets.interact(get_frame, step=widgets.IntSlider(min=0, max=300, value=0))"
   ]
  },
  {
   "cell_type": "code",
   "execution_count": null,
   "metadata": {
    "collapsed": true
   },
   "outputs": [],
   "source": []
  }
 ],
 "metadata": {
  "kernelspec": {
   "display_name": "Python 3",
   "language": "python",
   "name": "python3"
  },
  "language_info": {
   "codemirror_mode": {
    "name": "ipython",
    "version": 3
   },
   "file_extension": ".py",
   "mimetype": "text/x-python",
   "name": "python",
   "nbconvert_exporter": "python",
   "pygments_lexer": "ipython3",
   "version": "3.6.0"
  },
  "widgets": {
   "state": {
    "75d1fb15e5424f3eae8b85d60a3db65d": {
     "views": [
      {
       "cell_index": 4
      }
     ]
    }
   },
   "version": "1.2.0"
  }
 },
 "nbformat": 4,
 "nbformat_minor": 2
}
